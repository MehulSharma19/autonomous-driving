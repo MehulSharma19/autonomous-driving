{
  "nbformat": 4,
  "nbformat_minor": 0,
  "metadata": {
    "orig_nbformat": 2,
    "colab": {
      "name": "model.ipynb",
      "provenance": []
    },
    "kernelspec": {
      "name": "python3",
      "display_name": "Python 3.8.6 64-bit",
      "metadata": {
        "interpreter": {
          "hash": "291ada4285d81b7724775da889f1025824cfcf5691e48ef89418ffd1713b1d97"
        }
      }
    }
  },
  "cells": [
    {
      "source": [
        "# Autonomous Driving"
      ],
      "cell_type": "markdown",
      "metadata": {}
    },
    {
      "source": [
        "## This project is based on the NVDIA's model for self driving cars. The model used for training is similar to that presented in their paper."
      ],
      "cell_type": "markdown",
      "metadata": {}
    },
    {
      "cell_type": "code",
      "metadata": {
        "id": "jK6IIlbun_7N"
      },
      "source": [
        "import pandas as pd \n",
        "import numpy as np\n",
        "from sklearn.model_selection import train_test_split \n",
        "from keras.models import Sequential\n",
        "from keras.optimizers import Adam\n",
        "from keras.callbacks import ModelCheckpoint\n",
        "from keras.layers import Lambda, Conv2D, MaxPooling2D, Dropout, Dense, Flatten\n",
        "import argparse\n",
        "import cv2,os\n",
        "from keras.models import load_model\n",
        "import matplotlib.image as mpimg\n",
        "import ntpath"
      ],
      "execution_count": null,
      "outputs": []
    },
    {
      "cell_type": "code",
      "metadata": {
        "id": "gHkd2Xlyn_8D"
      },
      "source": [
        "np.random.seed(0)\n",
        "IMAGE_HEIGHT, IMAGE_WIDTH, IMAGE_CHANNELS = 160, 320, 3\n",
        "INPUT_SHAPE = (IMAGE_HEIGHT, IMAGE_WIDTH, IMAGE_CHANNELS)\n"
      ],
      "execution_count": null,
      "outputs": []
    },
    {
      "source": [
        "## The images from the Udacity's self driving car simulator are loaded and preprocessed to provide the model with only the car postion on the road (without the sky and extra objects on the side)"
      ],
      "cell_type": "markdown",
      "metadata": {}
    },
    {
      "cell_type": "code",
      "metadata": {
        "id": "AlHLsV0pn_8F"
      },
      "source": [
        " def load_image(data_dir, image_file):\n",
        "    #Change path based on where your data is located\n",
        "    path = \"drive/MyDrive/Autonomous/Data/IMG/\"\n",
        "    image_name = ntpath.basename(image_file)  \n",
        "    image = path + image_name\n",
        "    print(image)\n",
        "    return mpimg.imread(image)"
      ],
      "execution_count": null,
      "outputs": []
    },
    {
      "cell_type": "code",
      "metadata": {
        "id": "83jce8HJn_8K"
      },
      "source": [
        "def crop(image):\n",
        "    return image[60:-25, :, :] # remove the sky and the car front"
      ],
      "execution_count": null,
      "outputs": []
    },
    {
      "cell_type": "code",
      "metadata": {
        "id": "0F5hjJ5Bn_8M"
      },
      "source": [
        "def resize(image):\n",
        "    return cv2.resize(image, (IMAGE_WIDTH, IMAGE_HEIGHT), cv2.INTER_AREA)"
      ],
      "execution_count": null,
      "outputs": []
    },
    {
      "cell_type": "code",
      "metadata": {
        "id": "WEQuT8E_n_8N"
      },
      "source": [
        "def rgb2yuv(image):\n",
        "    return cv2.cvtColor(image, cv2.COLOR_RGB2YUV)"
      ],
      "execution_count": null,
      "outputs": []
    },
    {
      "cell_type": "code",
      "metadata": {
        "id": "Bo8OOCaHn_8N"
      },
      "source": [
        "def preprocess(image):\n",
        "    image = crop(image)\n",
        "    image = resize(image)\n",
        "    image = rgb2yuv(image)\n",
        "    return image"
      ],
      "execution_count": null,
      "outputs": []
    },
    {
      "cell_type": "code",
      "metadata": {
        "id": "LlavP1vtn_8O"
      },
      "source": [
        "def choose_image(data_dir, center, left, right, steering_angle):\n",
        "    choice = np.random.choice(3)\n",
        "    if choice == 0:\n",
        "        return load_image(data_dir, left), steering_angle + 0.2\n",
        "    elif choice == 1:\n",
        "        return load_image(data_dir, right), steering_angle - 0.2\n",
        "    return load_image(data_dir, center), steering_angle"
      ],
      "execution_count": null,
      "outputs": []
    },
    {
      "cell_type": "code",
      "metadata": {
        "id": "zcIbpOWpn_8P"
      },
      "source": [
        "def random_flip(image, steering_angle):\n",
        "    if np.random.rand() < 0.5:\n",
        "        image = cv2.flip(image, 1)\n",
        "        steering_angle = -steering_angle\n",
        "    return image, steering_angle\n"
      ],
      "execution_count": null,
      "outputs": []
    },
    {
      "cell_type": "code",
      "metadata": {
        "id": "OgTleG6rn_8Q"
      },
      "source": [
        "def random_translate(image, steering_angle, range_x, range_y):\n",
        "    trans_x = range_x * (np.random.rand() - 0.5)\n",
        "    trans_y = range_y * (np.random.rand() - 0.5)\n",
        "    steering_angle += trans_x * 0.002\n",
        "    trans_m = np.float32([[1, 0, trans_x], [0, 1, trans_y]])\n",
        "    height, width = image.shape[:2]\n",
        "    image = cv2.warpAffine(image, trans_m, (width, height))\n",
        "    return image, steering_angle"
      ],
      "execution_count": null,
      "outputs": []
    },
    {
      "cell_type": "code",
      "metadata": {
        "id": "p9I3EuF-n_8R"
      },
      "source": [
        "def random_shadow(image):\n",
        "    x1, y1 = IMAGE_WIDTH * np.random.rand(), 0\n",
        "    x2, y2 = IMAGE_WIDTH * np.random.rand(), IMAGE_HEIGHT\n",
        "    xm, ym = np.mgrid[0:IMAGE_HEIGHT, 0:IMAGE_WIDTH]\n",
        "    mask = np.zeros_like(image[:, :, 1])\n",
        "    mask[np.where((ym - y1) * (x2 - x1) - (y2 - y1) * (xm - x1) > 0)] = 1\n",
        "    cond = mask == np.random.randint(2)\n",
        "    s_ratio = np.random.uniform(low=0.2, high=0.5)\n",
        "    hls = cv2.cvtColor(image, cv2.COLOR_RGB2HLS)\n",
        "    hls[:, :, 1][cond] = hls[:, :, 1][cond] * s_ratio\n",
        "    return cv2.cvtColor(hls, cv2.COLOR_HLS2RGB)"
      ],
      "execution_count": null,
      "outputs": []
    },
    {
      "cell_type": "code",
      "metadata": {
        "id": "OFVUj4-pn_8T"
      },
      "source": [
        "def random_brightness(image):\n",
        "    hsv = cv2.cvtColor(image, cv2.COLOR_RGB2HSV)\n",
        "    ratio = 1.0 + 0.4 * (np.random.rand() - 0.5)\n",
        "    hsv[:,:,2] =  hsv[:,:,2] * ratio\n",
        "    return cv2.cvtColor(hsv, cv2.COLOR_HSV2RGB)\n"
      ],
      "execution_count": null,
      "outputs": []
    },
    {
      "cell_type": "code",
      "metadata": {
        "id": "Rjkx9BXVn_8T"
      },
      "source": [
        "def augument(data_dir, center, left, right, steering_angle, range_x=100, range_y=10):\n",
        "    image, steering_angle = choose_image(data_dir, center, left, right, steering_angle)\n",
        "    image, steering_angle = random_flip(image, steering_angle)\n",
        "    image, steering_angle = random_translate(image, steering_angle, range_x, range_y)\n",
        "    image = random_shadow(image)\n",
        "    image = random_brightness(image)\n",
        "    return image, steering_angle"
      ],
      "execution_count": null,
      "outputs": []
    },
    {
      "cell_type": "code",
      "metadata": {
        "id": "9hzPgehjn_8V"
      },
      "source": [
        "def batch_generator(data_dir, image_paths, steering_angles, batch_size, is_training):\n",
        "    images = np.empty([batch_size, IMAGE_HEIGHT, IMAGE_WIDTH, IMAGE_CHANNELS])\n",
        "    steers = np.empty(batch_size)\n",
        "    while True:\n",
        "        i = 0\n",
        "        for index in np.random.permutation(image_paths.shape[0]):\n",
        "            center, left, right = image_paths[index]\n",
        "            steering_angle = steering_angles[index]\n",
        "            # argumentation\n",
        "            if is_training and np.random.rand() < 0.6:\n",
        "                image, steering_angle = augument(data_dir, center, left, right, steering_angle)\n",
        "            else:\n",
        "                image = load_image(data_dir, center) \n",
        "            # add the image and steering angle to the batch\n",
        "            images[i] = preprocess(image)\n",
        "            steers[i] = steering_angle\n",
        "            i += 1\n",
        "            if i == batch_size:\n",
        "                break\n",
        "        yield images, steers\n"
      ],
      "execution_count": null,
      "outputs": []
    },
    {
      "source": [
        "## Once the images are ready, the model can be built and trained. The layers, activation functions and number of units are based completely on the NVDIA model."
      ],
      "cell_type": "markdown",
      "metadata": {}
    },
    {
      "cell_type": "code",
      "metadata": {
        "id": "BymiqfqEn_8W"
      },
      "source": [
        "def load_data(args):\n",
        "\n",
        "    ## Change path based on where your data is located\n",
        "    path = \"drive/MyDrive/Autonomous/Data/\"\n",
        "    \n",
        "    data_df = pd.read_csv(os.path.join(path + \"driving_log.csv\"), names=['center', 'left', 'right', 'steering', 'throttle', 'reverse', 'speed'])\n",
        "\n",
        "    ## Only steering values are being predicted by this model. \n",
        "\n",
        "    X = data_df[['center', 'left', 'right']].values\n",
        "    y = data_df['steering'].values\n",
        "    X_train, X_valid, y_train, y_valid = train_test_split(X, y, test_size=args['test_size'], random_state=0)\n",
        "\n",
        "    return X_train, X_valid, y_train, y_valid"
      ],
      "execution_count": null,
      "outputs": []
    },
    {
      "cell_type": "code",
      "metadata": {
        "id": "LLRuyrB8n_8Y"
      },
      "source": [
        "def build_model(args):\n",
        "\n",
        "    ##Same as the NVDIA model\n",
        "    model = Sequential()\n",
        "    model.add(Lambda(lambda x: x/127.5-1.0, input_shape=INPUT_SHAPE))\n",
        "    model.add(Conv2D(24, 5, 2, input_shape = (66, 200, 3), activation = 'relu'))\n",
        "    model.add(Conv2D(36, 5, 2, activation = 'relu'))\n",
        "    model.add(Conv2D(48, 5, 2, activation = 'relu'))\n",
        "    model.add(Conv2D(64, 3, activation = 'relu'))\n",
        "    model.add(Conv2D(64, 3, activation = 'relu'))\n",
        "    model.add(Dropout(args['keep_prob']))\n",
        "    model.add(Flatten())\n",
        "    model.add(Dense(100, activation='elu'))\n",
        "    model.add(Dense(50, activation='elu'))\n",
        "    model.add(Dense(10, activation='elu'))\n",
        "    model.add(Dense(1))\n",
        "    model.summary()\n",
        "\n",
        "    return model\n"
      ],
      "execution_count": null,
      "outputs": []
    },
    {
      "cell_type": "code",
      "metadata": {
        "id": "nds1A7Ugn_8Y"
      },
      "source": [
        "def train_model(model, args, X_train, X_valid, y_train, y_valid):\n",
        "    ## Training based on the arguments\n",
        "    checkpoint = ModelCheckpoint('model-{epoch:03d}.h5',\n",
        "                                 monitor='val_loss',\n",
        "                                 verbose=0,\n",
        "                                 save_best_only=args['save_best_only'],\n",
        "                                 mode='auto')\n",
        "    model.compile(loss='mean_squared_error', optimizer=Adam(lr=args['learning_rate']))\n",
        "    model.fit_generator(batch_generator(args['data_dir'], X_train, y_train, args['batch_size'], True),\n",
        "                        args['samples_per_epoch'],\n",
        "                        args['nb_epoch'],\n",
        "                        max_queue_size=1,\n",
        "                        validation_data=batch_generator(args['data_dir'], X_valid, y_valid, args['batch_size'], False),\n",
        "                        validation_steps=len(X_valid),\n",
        "                        callbacks=[checkpoint],\n",
        "                        verbose=1)"
      ],
      "execution_count": null,
      "outputs": []
    },
    {
      "cell_type": "code",
      "metadata": {
        "id": "gWiQCM4ln_8h",
        "colab": {
          "base_uri": "https://localhost:8080/"
        },
        "outputId": "42a814e3-9675-4b06-ff38-29d2b2172474"
      },
      "source": [
        "\n",
        "#The arguments can be changed according to one's requirement.\n",
        "args = {'data_dir':'data', 'test_size':0.2, 'keep_prob':0.5, 'nb_epoch':25, 'samples_per_epoch':1000, 'batch_size':64, 'save_best_only':True, 'learning_rate': 0.0001}\n",
        "\n",
        "#print parameters\n",
        "print('-' * 30)\n",
        "print('Parameters')\n",
        "print(args)\n",
        "print(args['data_dir'])\n",
        "print('-' * 30)\n",
        "print('-' * 30)\n",
        "\n",
        "#load data\n",
        "data = load_data(args)\n",
        "#build model\n",
        "model = build_model(args)\n",
        "#train model on data, it saves as model.h5 \n",
        "train_model(model, args, *data)"
      ],
      "execution_count": null,
      "outputs": []
    },
    {
      "source": [
        "### The best model is saved after every epoch. This trained model can now be used to run a car on the Udacity's self driving car simulator "
      ],
      "cell_type": "markdown",
      "metadata": {}
    }
  ]
}